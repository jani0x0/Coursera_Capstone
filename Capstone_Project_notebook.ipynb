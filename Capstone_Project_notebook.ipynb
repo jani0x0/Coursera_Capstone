{
  "nbformat": 4,
  "nbformat_minor": 0,
  "metadata": {
    "colab": {
      "name": "Capstone_Project_notebook.ipynb",
      "provenance": [],
      "authorship_tag": "ABX9TyOEW9KJP1vfdQ7wv5aRYztu"
    },
    "kernelspec": {
      "name": "python3",
      "display_name": "Python 3"
    },
    "language_info": {
      "name": "python"
    }
  },
  "cells": [
    {
      "cell_type": "markdown",
      "metadata": {
        "id": "0UiTFdkcd0VW"
      },
      "source": [
        "### Capstone Project"
      ]
    },
    {
      "cell_type": "markdown",
      "metadata": {
        "id": "qgWxB0WTd6fP"
      },
      "source": [
        "This is the notebook for Capstone Project!"
      ]
    },
    {
      "cell_type": "code",
      "metadata": {
        "id": "4ReCtepyeF8y"
      },
      "source": [
        "import pandas as pd\n",
        "import numpy as np"
      ],
      "execution_count": 1,
      "outputs": []
    },
    {
      "cell_type": "code",
      "metadata": {
        "colab": {
          "base_uri": "https://localhost:8080/"
        },
        "id": "XvqkVR1SeI5e",
        "outputId": "eb052bfd-5b22-4d76-e3b0-c1723ba88a2d"
      },
      "source": [
        "print(\"Hello Capstone Project Course!\")"
      ],
      "execution_count": 2,
      "outputs": [
        {
          "output_type": "stream",
          "text": [
            "Hello Capstone Project Course!\n"
          ],
          "name": "stdout"
        }
      ]
    }
  ]
}